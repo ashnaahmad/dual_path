{
 "cells": [
  {
   "cell_type": "code",
   "execution_count": 1,
   "metadata": {
    "collapsed": false
   },
   "outputs": [
    {
     "name": "stderr",
     "output_type": "stream",
     "text": [
      "/Users/charatsoukala/projects/env/lib/python2.7/site-packages/matplotlib/font_manager.py:273: UserWarning: Matplotlib is building the font cache using fc-list. This may take a moment.\n",
      "  warnings.warn('Matplotlib is building the font cache using fc-list. This may take a moment.')\n"
     ]
    }
   ],
   "source": [
    "# -*- coding: utf-8 -*-\n",
    "import os\n",
    "import random\n",
    "import pickle\n",
    "import numpy as np\n",
    "from datetime import datetime\n",
    "from multiprocessing import Process\n",
    "import subprocess\n",
    "import shutil\n",
    "\n",
    "import matplotlib\n",
    "\n",
    "matplotlib.use('Agg')  # needed for the server only\n",
    "import matplotlib.pyplot as plt"
   ]
  },
  {
   "cell_type": "code",
   "execution_count": 2,
   "metadata": {
    "collapsed": true
   },
   "outputs": [],
   "source": [
    "simulations = 100\n",
    "results_dir = ''\n",
    "results = []"
   ]
  },
  {
   "cell_type": "code",
   "execution_count": 3,
   "metadata": {
    "collapsed": false
   },
   "outputs": [
    {
     "name": "stdout",
     "output_type": "stream",
     "text": [
      "Simulation #21 was problematic\n",
      "Simulation #62 was problematic\n",
      "Simulation #63 was problematic\n",
      "Simulation #71 was problematic\n",
      "Simulation #90 was problematic\n"
     ]
    }
   ],
   "source": [
    "for sim in range(simulations):\n",
    "    if os.path.isfile('%s%s/results.out' % (results_dir, sim)):\n",
    "        with open('%s%s/results.out' % (results_dir, sim), 'r') as f:\n",
    "            results.append(pickle.load(f))\n",
    "    else:\n",
    "        print 'Simulation #%s was problematic' % sim"
   ]
  },
  {
   "cell_type": "code",
   "execution_count": 4,
   "metadata": {
    "collapsed": false
   },
   "outputs": [],
   "source": [
    "(epoch_list, num_correct, pos_correct, test_num_correct,\n",
    "             test_pos_correct, all_pronoun_err, pronoun_err) = np.mean(results, axis=0)"
   ]
  },
  {
   "cell_type": "code",
   "execution_count": 12,
   "metadata": {
    "collapsed": false
   },
   "outputs": [
    {
     "data": {
      "text/plain": [
       "array([ 0.        ,  0.01030928,  0.        ,  0.04123711,  0.01030928,\n",
       "        0.        ,  0.01030928,  0.31958763,  0.1443299 ,  0.32989691,\n",
       "        0.        ,  0.        ,  0.08247423,  0.05154639,  0.09278351,\n",
       "        0.09278351,  0.        ,  0.        ,  0.        ,  0.        ])"
      ]
     },
     "execution_count": 12,
     "metadata": {},
     "output_type": "execute_result"
    }
   ],
   "source": [
    "all_pronoun_err"
   ]
  },
  {
   "cell_type": "code",
   "execution_count": 13,
   "metadata": {
    "collapsed": false
   },
   "outputs": [
    {
     "data": {
      "text/plain": [
       "array([ 23.95789474,   7.16842105,   3.83157895,   1.35789474,\n",
       "         1.50526316,   0.09473684,   0.10526316,   0.08421053,\n",
       "         0.09473684,   0.09473684,   0.14736842,   0.10526316,\n",
       "         0.06315789,   0.06315789,   0.08421053,   0.13684211,\n",
       "         0.16842105,   0.13684211,   0.18947368,   0.13684211])"
      ]
     },
     "execution_count": 13,
     "metadata": {},
     "output_type": "execute_result"
    }
   ],
   "source": [
    "pronoun_err"
   ]
  },
  {
   "cell_type": "code",
   "execution_count": 5,
   "metadata": {
    "collapsed": false
   },
   "outputs": [],
   "source": [
    "plt.title('Subject pronoun errors')\n",
    "plt.plot(epoch_list, all_pronoun_err, color='deepskyblue', linestyle='--')\n",
    "plt.plot(epoch_list, pronoun_err)\n",
    "plt.xlabel('Epochs')\n",
    "plt.ylabel('Mean errors')\n",
    "plt.savefig('%ssummary_%s_pronoun_err_corr.pdf' % (results_dir, simulations))\n",
    "plt.close()"
   ]
  },
  {
   "cell_type": "code",
   "execution_count": 8,
   "metadata": {
    "collapsed": true
   },
   "outputs": [],
   "source": [
    "testset = '../2016-09-15t15.20.18_enes_h30/prodrop_input/test.enes'"
   ]
  },
  {
   "cell_type": "code",
   "execution_count": 9,
   "metadata": {
    "collapsed": false
   },
   "outputs": [],
   "source": [
    "with open(testset) as f:\n",
    "    testl = f.readlines()\n",
    "sentences_pronoun = len([line for line in testl if line.startswith('he ') or line.startswith('she ')])\n",
    "if sentences_pronoun:\n",
    "    all_pronoun_err = (all_pronoun_err * 100)/100\n",
    "    pronoun_err = (pronoun_err * 100) / 100"
   ]
  },
  {
   "cell_type": "code",
   "execution_count": 22,
   "metadata": {
    "collapsed": false
   },
   "outputs": [],
   "source": [
    "title = 'ES'\n",
    "plt.title(\"Percentage of L2 gender errors (%%) for %s \" % title)\n",
    "plt.plot(epoch_list, all_pronoun_err, color='deepskyblue', linestyle='--')\n",
    "plt.plot(epoch_list, pronoun_err)\n",
    "plt.ylim([0, 35])\n",
    "plt.xlabel('Epochs')\n",
    "plt.ylabel('Mean errors %')\n",
    "plt.savefig('%ssummary_%s_percentage_pronoun_err_corrlog.pdf' % (results_dir, simulations))\n",
    "plt.save()"
   ]
  },
  {
   "cell_type": "code",
   "execution_count": null,
   "metadata": {
    "collapsed": true
   },
   "outputs": [],
   "source": []
  }
 ],
 "metadata": {
  "kernelspec": {
   "display_name": "Python 2",
   "language": "python",
   "name": "python2"
  },
  "language_info": {
   "codemirror_mode": {
    "name": "ipython",
    "version": 2
   },
   "file_extension": ".py",
   "mimetype": "text/x-python",
   "name": "python",
   "nbconvert_exporter": "python",
   "pygments_lexer": "ipython2",
   "version": "2.7.10"
  }
 },
 "nbformat": 4,
 "nbformat_minor": 0
}

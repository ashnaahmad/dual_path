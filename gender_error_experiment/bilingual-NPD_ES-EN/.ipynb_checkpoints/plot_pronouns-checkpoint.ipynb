{
 "cells": [
  {
   "cell_type": "code",
   "execution_count": 1,
   "metadata": {
    "collapsed": false
   },
   "outputs": [
    {
     "name": "stderr",
     "output_type": "stream",
     "text": [
      "/Users/charatsoukala/projects/env/lib/python2.7/site-packages/matplotlib/font_manager.py:273: UserWarning: Matplotlib is building the font cache using fc-list. This may take a moment.\n",
      "  warnings.warn('Matplotlib is building the font cache using fc-list. This may take a moment.')\n"
     ]
    }
   ],
   "source": [
    "# -*- coding: utf-8 -*-\n",
    "import os\n",
    "import random\n",
    "import pickle\n",
    "import numpy as np\n",
    "from datetime import datetime\n",
    "from multiprocessing import Process\n",
    "import subprocess\n",
    "import shutil\n",
    "\n",
    "import matplotlib\n",
    "\n",
    "matplotlib.use('Agg')  # needed for the server only\n",
    "import matplotlib.pyplot as plt"
   ]
  },
  {
   "cell_type": "code",
   "execution_count": 2,
   "metadata": {
    "collapsed": true
   },
   "outputs": [],
   "source": [
    "simulations = 100\n",
    "results_dir = ''"
   ]
  },
  {
   "cell_type": "code",
   "execution_count": null,
   "metadata": {
    "collapsed": true
   },
   "outputs": [],
   "source": [
    "for sim in range(simulations):\n",
    "            if os.path.isfile('%s/%s/results.out' % (results_dir, sim)):\n",
    "                with open('%s/%s/results.out' % (results_dir, sim), 'r') as f:\n",
    "                    results.append(pickle.load(f))\n",
    "            else:\n",
    "                print 'Simulation #%s was problematic' % sim"
   ]
  }
 ],
 "metadata": {
  "kernelspec": {
   "display_name": "Python 2",
   "language": "python",
   "name": "python2"
  },
  "language_info": {
   "codemirror_mode": {
    "name": "ipython",
    "version": 2
   },
   "file_extension": ".py",
   "mimetype": "text/x-python",
   "name": "python",
   "nbconvert_exporter": "python",
   "pygments_lexer": "ipython2",
   "version": "2.7.10"
  }
 },
 "nbformat": 4,
 "nbformat_minor": 0
}
